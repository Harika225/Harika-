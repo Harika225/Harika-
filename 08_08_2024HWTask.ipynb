{
  "nbformat": 4,
  "nbformat_minor": 0,
  "metadata": {
    "colab": {
      "provenance": [],
      "include_colab_link": true
    },
    "kernelspec": {
      "name": "python3",
      "display_name": "Python 3"
    },
    "language_info": {
      "name": "python"
    }
  },
  "cells": [
    {
      "cell_type": "markdown",
      "metadata": {
        "id": "view-in-github",
        "colab_type": "text"
      },
      "source": [
        "<a href=\"https://colab.research.google.com/github/Harika225/Harika-/blob/main/08_08_2024HWTask.ipynb\" target=\"_parent\"><img src=\"https://colab.research.google.com/assets/colab-badge.svg\" alt=\"Open In Colab\"/></a>"
      ]
    },
    {
      "cell_type": "markdown",
      "source": [
        "###HW Task-1\n",
        "\n",
        "\n",
        "1. What are variables in Python and how are they declared?\n",
        "A)In Python, variables are fundamental building blocks that act as containers for storing data values. Here's a breakdown:\n",
        "What are Variables?\n",
        " * Containers for Data:\n",
        "   * Think of variables as labeled boxes in your computer's memory. They hold information that your program can use.\n",
        " * Symbolic Names:\n",
        "   * Variables provide a way to give meaningful names to data, making your code easier to read and understand.\n",
        " * Dynamic Typing:\n",
        "   * Python is a dynamically typed language, meaning you don't need to explicitly declare the data type of a variable. The interpreter infers the type based on the value assigned to it.\n",
        "How are Variables Declared?\n",
        " * Assignment Operator (=):\n",
        "   * You create a variable by assigning a value to it using the equals sign (=).\n",
        "   * Example: my_variable = 10\n",
        " * Implicit Declaration:\n",
        "   * Unlike some other programming languages, Python doesn't require you to declare variables before using them. The moment you assign a value, the variable is created.\n",
        " * Example Scenarios:\n",
        "   * name = \"Alice\" (string)\n",
        "   * age = 30 (integer)\n",
        "   * price = 9.99 (float)\n",
        "   * is_valid = True (boolean)\n",
        "Key Points:\n",
        " * Variable names should be descriptive and follow Python's naming conventions (e.g., start with a letter or underscore, and can contain letters, numbers, and underscores).\n",
        " * Python allows you to reassign variables, meaning you can change the value they hold during the program's execution.\n",
        " * Variables are how you store and manipulate data within python programs.\n",
        "ANS:"
      ],
      "metadata": {
        "id": "nrdNZn7kZJ7c"
      }
    },
    {
      "cell_type": "markdown",
      "source": [
        "2. What are the basic data types in Python?\n",
        "\n",
        "ANS:Python has several built-in data types that are used to represent different kinds of values. Here's a breakdown of the most fundamental ones:\n",
        "1. Numeric Types:\n",
        " * int (Integers):\n",
        "   * These represent whole numbers, positive or negative, without any decimal points.\n",
        "   * Example: 10, -5, 0\n",
        " * float (Floating-point numbers):\n",
        "   * These represent real numbers with decimal points.\n",
        "   * Example: 3.14, -2.5, 0.0\n",
        " * complex (Complex numbers):\n",
        "   * These represent numbers with a real and an imaginary part.\n",
        "   * Example: 2 + 3j\n",
        "2. Sequence Types:\n",
        " * str (Strings):\n",
        "   * These represent sequences of characters, enclosed in single or double quotes.\n",
        "   * Example: \"Hello\", 'Python'\n",
        " * list (Lists):\n",
        "   * These represent ordered, mutable (changeable) sequences of items.\n",
        "   * Example: [1, 2, 3], ['apple', 'banana', 'cherry']\n",
        " * tuple (Tuples):\n",
        "   * These represent ordered, immutable (unchangeable) sequences of items.\n",
        "   * Example: (1, 2, 3), ('apple', 'banana', 'cherry')\n",
        " * range (Ranges):\n",
        "   * These represent a sequence of numbers. It is commonly used for looping a specific number of times.\n",
        "3. Mapping Type:\n",
        " * dict (Dictionaries):\n",
        "   * These represent key-value pairs, allowing you to store and retrieve data using keys.\n",
        "   * Example: {'name': 'Alice', 'age': 30}\n",
        "4. Boolean Type:\n",
        " * bool (Booleans):\n",
        "   * These represent truth values, either True or False.\n",
        "5. Set Types:\n",
        " * set (Sets):\n",
        "   * These are unordered collections of unique elements.\n",
        " * frozenset (Frozen sets):\n",
        "   * These are immutable versions of sets.\n",
        "6. Binary Types:\n",
        " * bytes:\n",
        "   * Immutable sequences of single bytes.\n",
        " * bytearray:\n",
        "   * Mutable sequences of single bytes.\n",
        " * memoryview:\n",
        "   * A memory view object allows access to the internal data of an object that supports the buffer protocol without copying.\n",
        "These data types are the foundation for working with data in Python."
      ],
      "metadata": {
        "id": "SJbGLrLKZ3Go"
      }
    },
    {
      "cell_type": "markdown",
      "source": [
        "3. What is the difference between = and == in Python?\n",
        "\n",
        "ANS:In Python, = and == serve very different purposes:\n",
        " * = (Assignment Operator):\n",
        "   * This operator is used to assign a value to a variable.\n",
        "   * For example: x = 5 assigns the value 5 to the variable x.\n",
        "   * It essentially stores a value in a memory location and labels it with the variable name.\n",
        " * == (Equality Operator):\n",
        "   * This operator is used to compare whether two values are equal.\n",
        "   * It returns a Boolean value: True if the values are equal, and False if they are not.\n",
        "   * For example: if x == 5: checks if the value of x is equal to 5.\n",
        "Here's a simple way to summarize the difference:\n",
        " * = : \"Make this variable equal to this value.\"\n",
        " * == : \"Is this value equal to that value?\"\n",
        "It's crucial to distinguish between these two operators, as using the wrong one can lead to unexpected behavior in your code."
      ],
      "metadata": {
        "id": "L9k4XgiKZ6XK"
      }
    },
    {
      "cell_type": "markdown",
      "source": [
        "4. Write a Python program to ask the user for their name and age, and then print out a message greeting them by name and telling them how old they are.\n",
        "A)def greet_user():\n",
        "  \"\"\"Asks for the user's name and age and prints a greeting.\"\"\"\n",
        "\n",
        "  name = input(\"Enter your name: \")\n",
        "  age = input(\"Enter your age: \")\n",
        "\n",
        "  try:\n",
        "    age = int(age) #attempt to convert age to integer.\n",
        "    print(f\"Hello, {name}! You are {age} years old.\")\n",
        "  except ValueError:\n",
        "    print(\"Invalid age entered. Please enter a number.\")\n",
        "    #you could also recursively call the greet_user function here, to ask for the age again.\n",
        "\n",
        "greet_user()\n",
        "\n",
        "Explanation:\n",
        " * def greet_user():: This line defines a function named greet_user(). Functions are blocks of reusable code.\n",
        " * name = input(\"Enter your name: \"):\n",
        "   * The input() function displays the prompt \"Enter your name: \" on the console.\n",
        "   * It waits for the user to type something and press Enter.\n",
        "   * The entered text is then stored in the name variable.\n",
        " * age = input(\"Enter your age: \"):\n",
        "   * This line does the same as the previous one, but for the user's age.\n",
        "   * The entered age is stored in the age variable (initially as a string).\n",
        " * try...except block:\n",
        "   * The try block attempts to convert the string age to an integer using int(age).\n",
        "   * If the conversion is successful, the program proceeds.\n",
        "   * If the user enters something that cannot be converted to an integer (e.g., \"twenty\"), a ValueError occurs.\n",
        "   * The except ValueError: block catches this error and prints an error message.\n",
        " * print(f\"Hello, {name}! You are {age} years old.\"):\n",
        "   * This line uses an f-string (formatted string literal) to create a greeting message.\n",
        "   * The values of the name and age variables are inserted into the string.\n",
        "   * The message is then printed to the console.\n",
        " * greet_user(): This line calls the greet_user() function, which starts the program's execution."
      ],
      "metadata": {
        "id": "IZdq_Yl4aAdM"
      }
    },
    {
      "cell_type": "markdown",
      "source": [
        "5. Write a Python program to check if a number, n, is even or odd, and print out a message indicating which."
      ],
      "metadata": {
        "id": "HoM-jhJcaP60"
      }
    },
    {
      "cell_type": "code",
      "source": [
        "def check_even_odd(n):\n",
        "  \"\"\"Checks if a number is even or odd and prints a message.\"\"\"\n",
        "\n",
        "  if n % 2 == 0:\n",
        "    print(f\"{n} is an even number.\")\n",
        "  else:\n",
        "    print(f\"{n} is an odd number.\")\n",
        "\n",
        "# Get input from the user\n",
        "try:\n",
        "  n = int(input(\"Enter a number: \"))\n",
        "  check_even_odd(n)\n",
        "except ValueError:\n",
        "  print(\"Invalid input. Please enter a valid integer.\")"
      ],
      "metadata": {
        "id": "z2568pPuag_X",
        "outputId": "2c839bba-2d7a-4c8b-ef56-4d688c2a7c8c",
        "colab": {
          "base_uri": "https://localhost:8080/"
        }
      },
      "execution_count": 4,
      "outputs": [
        {
          "output_type": "stream",
          "name": "stdout",
          "text": [
            "Enter a number: 6\n",
            "6 is an even number.\n"
          ]
        }
      ]
    },
    {
      "cell_type": "markdown",
      "source": [
        "6. Write a Python program to check if a number, x, is divisible by 3, and print out a message indicating whether it is or not."
      ],
      "metadata": {
        "id": "ifCBEkn8ajCi"
      }
    },
    {
      "cell_type": "code",
      "source": [
        "def check_divisibility_by_3(x):\n",
        "  \"\"\"Checks if a number is divisible by 3 and prints a message.\"\"\"\n",
        "\n",
        "  if x % 3 == 0:\n",
        "    print(f\"{x} is divisible by 3.\")\n",
        "  else:\n",
        "    print(f\"{x} is not divisible by 3.\")\n",
        "\n",
        "# Get input from the user\n",
        "try:\n",
        "  x = int(input(\"Enter a number: \"))\n",
        "  check_divisibility_by_3(x)\n",
        "except ValueError:\n",
        "  print(\"Invalid input. Please enter a valid integer.\")"
      ],
      "metadata": {
        "id": "Ji3bTSYIaqhk",
        "outputId": "fd7bf1a2-c275-4d8e-8b70-fd9d37a2f170",
        "colab": {
          "base_uri": "https://localhost:8080/"
        }
      },
      "execution_count": 5,
      "outputs": [
        {
          "output_type": "stream",
          "name": "stdout",
          "text": [
            "Enter a number: 6\n",
            "6 is divisible by 3.\n"
          ]
        }
      ]
    },
    {
      "cell_type": "markdown",
      "source": [
        "7. What is the logic behind to check the year is leap year or not. Write the logic and python program as well.\n",
        "\n",
        "ANS:Leap Year Logic\n",
        "A year is considered a leap year if it meets the following criteria:\n",
        " * Divisible by 4: The year must be evenly divisible by 4.\n",
        " * Not Divisible by 100 (unless divisible by 400):\n",
        "   * If the year is divisible by 100, it is not a leap year, unless it is also divisible by 400.\n",
        "   * If the year is divisible by 400, it is a leap year.\n",
        "In simpler terms:\n",
        " * Most years divisible by 4 are leap years.\n",
        " * Years divisible by 100 are not leap years.\n",
        " * Years divisible by 400 are always leap years.\n",
        "Python Program\n",
        "def is_leap_year(year):\n",
        "  \"\"\"Checks if a given year is a leap year.\"\"\"\n",
        "\n",
        "  if (year % 4 == 0):\n",
        "    if (year % 100 == 0):\n",
        "      if (year % 400 == 0):\n",
        "        return True  # Divisible by 400, so it's a leap year\n",
        "      else:\n",
        "        return False # Divisible by 100, not by 400, so not a leap year\n",
        "    else:\n",
        "      return True  # Divisible by 4, not by 100, so it's a leap year\n",
        "  else:\n",
        "    return False  # Not divisible by 4, so not a leap year\n",
        "\n",
        "# Get input from the user\n",
        "year = int(input(\"Enter a year: \"))\n",
        "\n",
        "# Check and print the result\n",
        "if is_leap_year(year):\n",
        "  print(f\"{year} is a leap year.\")\n",
        "else:\n",
        "  print(f\"{year} is not a leap year.\")\n",
        "\n",
        "#More concise version\n",
        "def is_leap_year_concise(year):\n",
        "    return (year % 4 == 0 and year % 100 != 0) or (year % 400 == 0)\n",
        "\n",
        "#Example of the concise function.\n",
        "year2 = int(input(\"Enter a year: \"))\n",
        "\n",
        "if is_leap_year_concise(year2):\n",
        "  print(f\"{year2} is a leap year.\")\n",
        "else:\n",
        "  print(f\"{year2} is not a leap year.\")\n",
        "\n",
        "\n",
        "Explanation of the Python Code\n",
        " * def is_leap_year(year):: Defines a function that takes a year as input.\n",
        " * if (year % 4 == 0):: Checks if the year is divisible by 4. The % operator gives the remainder of a division.\n",
        " * if (year % 100 == 0):: If divisible by 4, checks if it's also divisible by 100.\n",
        " * if (year % 400 == 0):: If divisible by 100, checks if it's divisible by 400.\n",
        " * return True or return False: Returns the appropriate Boolean value based on the leap year rules.\n",
        " * year = int(input(\"Enter a year: \")): Gets the year from the user and converts it to an integer.\n",
        " * if is_leap_year(year):: Calls the function and prints the result.\n",
        " * Concise version: The second function is_leap_year_concise shows a more compact way to write the logic using boolean operators."
      ],
      "metadata": {
        "id": "YavcDMaza0Ji"
      }
    },
    {
      "cell_type": "code",
      "source": [
        "def is_leap_year(year):\n",
        "  \"\"\"Checks if a given year is a leap year.\"\"\"\n",
        "\n",
        "  if (year % 4 == 0):\n",
        "    if (year % 100 == 0):\n",
        "      if (year % 400 == 0):\n",
        "        return True  # Divisible by 400, so it's a leap year\n",
        "      else:\n",
        "        return False # Divisible by 100, not by 400, so not a leap year\n",
        "    else:\n",
        "      return True  # Divisible by 4, not by 100, so it's a leap year\n",
        "  else:\n",
        "    return False  # Not divisible by 4, so not a leap year\n",
        "\n",
        "# Get input from the user\n",
        "year = int(input(\"Enter a year: \"))\n",
        "\n",
        "# Check and print the result\n",
        "if is_leap_year(year):\n",
        "  print(f\"{year} is a leap year.\")\n",
        "else:\n",
        "  print(f\"{year} is not a leap year.\")\n",
        "\n",
        "#More concise version\n",
        "def is_leap_year_concise(year):\n",
        "    return (year % 4 == 0 and year % 100 != 0) or (year % 400 == 0)\n",
        "\n",
        "#Example of the concise function.\n",
        "year2 = int(input(\"Enter a year: \"))\n",
        "\n",
        "if is_leap_year_concise(year2):\n",
        "  print(f\"{year2} is a leap year.\")\n",
        "else:\n",
        "  print(f\"{year2} is not a leap year.\")"
      ],
      "metadata": {
        "id": "HwfDV0WNbP0z",
        "outputId": "e2370d4b-dc69-4316-84ab-b7f9ead32399",
        "colab": {
          "base_uri": "https://localhost:8080/"
        }
      },
      "execution_count": 3,
      "outputs": [
        {
          "output_type": "stream",
          "name": "stdout",
          "text": [
            "Enter a year: 2025\n",
            "2025 is not a leap year.\n",
            "Enter a year: 2025\n",
            "2025 is not a leap year.\n"
          ]
        }
      ]
    }
  ]
}